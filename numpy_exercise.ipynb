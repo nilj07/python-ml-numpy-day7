{
 "cells": [
  {
   "cell_type": "code",
   "execution_count": 1,
   "id": "bff3b370-1092-4718-b717-3f32e0d24411",
   "metadata": {},
   "outputs": [],
   "source": [
    "import numpy as np"
   ]
  },
  {
   "cell_type": "markdown",
   "id": "f1523dfa-a208-478f-94c8-8858e7073100",
   "metadata": {},
   "source": [
    "##### Create an array of 10 zeros"
   ]
  },
  {
   "cell_type": "code",
   "execution_count": 3,
   "id": "6646a9d3-8296-4cc2-b450-789a3994953d",
   "metadata": {},
   "outputs": [
    {
     "name": "stdout",
     "output_type": "stream",
     "text": [
      "[0. 0. 0. 0. 0. 0. 0. 0. 0. 0.]\n"
     ]
    }
   ],
   "source": [
    "zeros = np.zeros(10)\n",
    "print(zeros)"
   ]
  },
  {
   "cell_type": "markdown",
   "id": "ee1dd66b-0dc5-488f-a732-627992358831",
   "metadata": {},
   "source": [
    "##### Create an array of 10 ones"
   ]
  },
  {
   "cell_type": "code",
   "execution_count": 6,
   "id": "9f2a3dbe-40b2-4a6e-9e1e-bc13e8c57488",
   "metadata": {},
   "outputs": [
    {
     "name": "stdout",
     "output_type": "stream",
     "text": [
      "[1. 1. 1. 1. 1. 1. 1. 1. 1. 1.]\n"
     ]
    }
   ],
   "source": [
    "ones = np.ones(10)\n",
    "print(ones)"
   ]
  },
  {
   "cell_type": "markdown",
   "id": "f050f252-1e4f-4554-b8ca-a67d34d52e5c",
   "metadata": {},
   "source": [
    "##### Create an array of 10 fives"
   ]
  },
  {
   "cell_type": "code",
   "execution_count": 13,
   "id": "f0f40f3f-049d-482a-b460-356b1e99a210",
   "metadata": {},
   "outputs": [
    {
     "data": {
      "text/plain": [
       "array([5, 5, 5, 5, 5, 5, 5, 5, 5, 5])"
      ]
     },
     "execution_count": 13,
     "metadata": {},
     "output_type": "execute_result"
    }
   ],
   "source": [
    "fives = np.repeat(5,10)\n",
    "fives"
   ]
  },
  {
   "cell_type": "markdown",
   "id": "160a96c8-a5eb-4b81-9fc7-b65d75e39471",
   "metadata": {},
   "source": [
    "##### Create an array of the integers from 10 to 50"
   ]
  },
  {
   "cell_type": "code",
   "execution_count": 17,
   "id": "cd894494-ee47-44cf-8fe2-136486ac1a9a",
   "metadata": {},
   "outputs": [
    {
     "data": {
      "text/plain": [
       "array([10, 11, 12, 13, 14, 15, 16, 17, 18, 19, 20, 21, 22, 23, 24, 25, 26,\n",
       "       27, 28, 29, 30, 31, 32, 33, 34, 35, 36, 37, 38, 39, 40, 41, 42, 43,\n",
       "       44, 45, 46, 47, 48, 49, 50])"
      ]
     },
     "execution_count": 17,
     "metadata": {},
     "output_type": "execute_result"
    }
   ],
   "source": [
    "arr = np.arange(10,51)\n",
    "arr"
   ]
  },
  {
   "cell_type": "markdown",
   "id": "1564a96a-d609-432b-aceb-e5411f85e453",
   "metadata": {},
   "source": [
    "##### Create an array of all the even integers from 10 to 50"
   ]
  },
  {
   "cell_type": "code",
   "execution_count": 19,
   "id": "b3503ba7-31d9-41f4-9966-4b401c83be40",
   "metadata": {},
   "outputs": [
    {
     "data": {
      "text/plain": [
       "array([10, 12, 14, 16, 18, 20, 22, 24, 26, 28, 30, 32, 34, 36, 38, 40, 42,\n",
       "       44, 46, 48, 50])"
      ]
     },
     "execution_count": 19,
     "metadata": {},
     "output_type": "execute_result"
    }
   ],
   "source": [
    "arr = np.arange(10,51,2)\n",
    "arr"
   ]
  },
  {
   "cell_type": "markdown",
   "id": "c53bef43-bdc2-4643-bd94-1d1a918f8d60",
   "metadata": {},
   "source": [
    "##### Create a 3x3 matrix with values ranging from 0 to 8"
   ]
  },
  {
   "cell_type": "code",
   "execution_count": 23,
   "id": "8be892f6-35d4-4ed2-8873-2e8b67b0757d",
   "metadata": {},
   "outputs": [
    {
     "data": {
      "text/plain": [
       "array([[0, 1, 2],\n",
       "       [3, 4, 5],\n",
       "       [6, 7, 8]])"
      ]
     },
     "execution_count": 23,
     "metadata": {},
     "output_type": "execute_result"
    }
   ],
   "source": [
    "arr = np.arange(9)\n",
    "arr2 = arr.reshape(3,3)\n",
    "arr2"
   ]
  },
  {
   "cell_type": "markdown",
   "id": "a65dedb1-4d9d-4d85-b94a-5c00d638e533",
   "metadata": {},
   "source": [
    "##### Create a 3x3 identity matrix"
   ]
  },
  {
   "cell_type": "code",
   "execution_count": 31,
   "id": "c266d631-28c8-4631-bf9d-8de257e98e83",
   "metadata": {},
   "outputs": [
    {
     "data": {
      "text/plain": [
       "array([[1., 0., 0.],\n",
       "       [0., 1., 0.],\n",
       "       [0., 0., 1.]])"
      ]
     },
     "execution_count": 31,
     "metadata": {},
     "output_type": "execute_result"
    }
   ],
   "source": [
    "arr = np.eye(3)\n",
    "arr"
   ]
  },
  {
   "cell_type": "markdown",
   "id": "da7391e6-3389-44a9-afa8-0b6f31d28b24",
   "metadata": {},
   "source": [
    "##### Use NumPy to generate a random number between 0 and 1"
   ]
  },
  {
   "cell_type": "code",
   "execution_count": 35,
   "id": "20603e4a-99a9-4887-934b-c565498fa1c4",
   "metadata": {},
   "outputs": [
    {
     "data": {
      "text/plain": [
       "0.039732231841659305"
      ]
     },
     "execution_count": 35,
     "metadata": {},
     "output_type": "execute_result"
    }
   ],
   "source": [
    "num = np.random.rand()\n",
    "num"
   ]
  },
  {
   "cell_type": "markdown",
   "id": "ba12503f-4eb6-45e0-9b2d-283bd0254d4e",
   "metadata": {},
   "source": [
    "##### Use NumPy to generate an array of 25 random numbers sampled from a standard normal distribution"
   ]
  },
  {
   "cell_type": "code",
   "execution_count": 51,
   "id": "791adfe7-5e55-4777-8000-2516fa9cae6f",
   "metadata": {},
   "outputs": [
    {
     "data": {
      "text/plain": [
       "array([ 1.91086743, -0.82021469, -1.45886602, -0.20565121,  0.39194817,\n",
       "       -1.06205881,  2.75228406,  0.39891606, -0.60609768, -0.48439858,\n",
       "       -0.73786981,  0.27409086,  0.25093035, -1.67152054, -2.00599621,\n",
       "       -0.47156132,  0.79730809, -2.80544414,  1.22962767, -0.36754126,\n",
       "        0.52414466, -0.21945318, -0.23182438, -0.33727215, -0.32795331])"
      ]
     },
     "execution_count": 51,
     "metadata": {},
     "output_type": "execute_result"
    }
   ],
   "source": [
    "arr = np.random.randn((25))\n",
    "arr"
   ]
  },
  {
   "cell_type": "markdown",
   "id": "d4d9b23f-bb59-4116-91a0-4ba477b50069",
   "metadata": {},
   "source": [
    "##### Create the following matrix:\n",
    "array([[ 0.01,  0.02,  0.03,  0.04,  0.05,  0.06,  0.07,  0.08,  0.09,  0.1 ],\n",
    "       [ 0.11,  0.12,  0.13,  0.14,  0.15,  0.16,  0.17,  0.18,  0.19,  0.2 ],\n",
    "       [ 0.21,  0.22,  0.23,  0.24,  0.25,  0.26,  0.27,  0.28,  0.29,  0.3 ],\n",
    "       [ 0.31,  0.32,  0.33,  0.34,  0.35,  0.36,  0.37,  0.38,  0.39,  0.4 ],\n",
    "       [ 0.41,  0.42,  0.43,  0.44,  0.45,  0.46,  0.47,  0.48,  0.49,  0.5 ],\n",
    "       [ 0.51,  0.52,  0.53,  0.54,  0.55,  0.56,  0.57,  0.58,  0.59,  0.6 ],\n",
    "       [ 0.61,  0.62,  0.63,  0.64,  0.65,  0.66,  0.67,  0.68,  0.69,  0.7 ],\n",
    "       [ 0.71,  0.72,  0.73,  0.74,  0.75,  0.76,  0.77,  0.78,  0.79,  0.8 ],\n",
    "       [ 0.81,  0.82,  0.83,  0.84,  0.85,  0.86,  0.87,  0.88,  0.89,  0.9 ],\n",
    "       [ 0.91,  0.92,  0.93,  0.94,  0.95,  0.96,  0.97,  0.98,  0.99,  1.  ]])"
   ]
  },
  {
   "cell_type": "code",
   "execution_count": 60,
   "id": "0d6f952e-4d08-4687-bd99-4175fb4a7122",
   "metadata": {},
   "outputs": [
    {
     "data": {
      "text/plain": [
       "array([[0.01, 0.02, 0.03, 0.04, 0.05, 0.06, 0.07, 0.08, 0.09, 0.1 ],\n",
       "       [0.11, 0.12, 0.13, 0.14, 0.15, 0.16, 0.17, 0.18, 0.19, 0.2 ],\n",
       "       [0.21, 0.22, 0.23, 0.24, 0.25, 0.26, 0.27, 0.28, 0.29, 0.3 ],\n",
       "       [0.31, 0.32, 0.33, 0.34, 0.35, 0.36, 0.37, 0.38, 0.39, 0.4 ],\n",
       "       [0.41, 0.42, 0.43, 0.44, 0.45, 0.46, 0.47, 0.48, 0.49, 0.5 ],\n",
       "       [0.51, 0.52, 0.53, 0.54, 0.55, 0.56, 0.57, 0.58, 0.59, 0.6 ],\n",
       "       [0.61, 0.62, 0.63, 0.64, 0.65, 0.66, 0.67, 0.68, 0.69, 0.7 ],\n",
       "       [0.71, 0.72, 0.73, 0.74, 0.75, 0.76, 0.77, 0.78, 0.79, 0.8 ],\n",
       "       [0.81, 0.82, 0.83, 0.84, 0.85, 0.86, 0.87, 0.88, 0.89, 0.9 ],\n",
       "       [0.91, 0.92, 0.93, 0.94, 0.95, 0.96, 0.97, 0.98, 0.99, 1.  ]])"
      ]
     },
     "execution_count": 60,
     "metadata": {},
     "output_type": "execute_result"
    }
   ],
   "source": [
    "arr = np.linspace(0.01,1,100)\n",
    "arr = arr.reshape(10,10)\n",
    "arr"
   ]
  },
  {
   "cell_type": "markdown",
   "id": "93012603-03ec-4801-9672-3b49f0efd1d6",
   "metadata": {},
   "source": [
    "##### Create an array of 20 linearly spaced points between 0 and 1:"
   ]
  },
  {
   "cell_type": "code",
   "execution_count": 62,
   "id": "cb51f834-d0f3-43c1-9c32-4b24fb9fe4b0",
   "metadata": {},
   "outputs": [
    {
     "data": {
      "text/plain": [
       "array([0.        , 0.05263158, 0.10526316, 0.15789474, 0.21052632,\n",
       "       0.26315789, 0.31578947, 0.36842105, 0.42105263, 0.47368421,\n",
       "       0.52631579, 0.57894737, 0.63157895, 0.68421053, 0.73684211,\n",
       "       0.78947368, 0.84210526, 0.89473684, 0.94736842, 1.        ])"
      ]
     },
     "execution_count": 62,
     "metadata": {},
     "output_type": "execute_result"
    }
   ],
   "source": [
    "arr = np.linspace(0,1,20)\n",
    "arr"
   ]
  },
  {
   "cell_type": "markdown",
   "id": "f1df4611-6d03-49b9-be96-eb62d53ab91a",
   "metadata": {},
   "source": [
    "##### Now you will be given a few matrices, and be asked to replicate the resulting matrix outputs:\n"
   ]
  },
  {
   "cell_type": "code",
   "execution_count": 63,
   "id": "a99607f9-ba09-4847-a7c8-4f7abc133b4d",
   "metadata": {},
   "outputs": [
    {
     "data": {
      "text/plain": [
       "array([[ 1,  2,  3,  4,  5],\n",
       "       [ 6,  7,  8,  9, 10],\n",
       "       [11, 12, 13, 14, 15],\n",
       "       [16, 17, 18, 19, 20],\n",
       "       [21, 22, 23, 24, 25]])"
      ]
     },
     "execution_count": 63,
     "metadata": {},
     "output_type": "execute_result"
    }
   ],
   "source": [
    "mat = np.arange(1,26).reshape(5,5)\n",
    "mat"
   ]
  },
  {
   "cell_type": "code",
   "execution_count": 65,
   "id": "cb5a84a0-542e-4e61-88ac-2457249b40ea",
   "metadata": {},
   "outputs": [
    {
     "name": "stdout",
     "output_type": "stream",
     "text": [
      "[[12 13 14 15]\n",
      " [17 18 19 20]\n",
      " [22 23 24 25]]\n"
     ]
    }
   ],
   "source": [
    "result = mat[2:,1:]\n",
    "print(result)"
   ]
  },
  {
   "cell_type": "code",
   "execution_count": 67,
   "id": "eed8f751-143f-4326-af75-a073814077bf",
   "metadata": {},
   "outputs": [
    {
     "data": {
      "text/plain": [
       "20"
      ]
     },
     "execution_count": 67,
     "metadata": {},
     "output_type": "execute_result"
    }
   ],
   "source": [
    "result = mat[3,4]\n",
    "result"
   ]
  },
  {
   "cell_type": "code",
   "execution_count": 71,
   "id": "d6615137-830e-449e-bcc2-ff5c1eceaf6a",
   "metadata": {},
   "outputs": [
    {
     "data": {
      "text/plain": [
       "array([[ 2],\n",
       "       [ 7],\n",
       "       [12]])"
      ]
     },
     "execution_count": 71,
     "metadata": {},
     "output_type": "execute_result"
    }
   ],
   "source": [
    "result = mat[:3,1:2]\n",
    "result"
   ]
  },
  {
   "cell_type": "code",
   "execution_count": 72,
   "id": "4fb926ad-6b40-4be2-91ea-1bf397ed8b50",
   "metadata": {},
   "outputs": [
    {
     "data": {
      "text/plain": [
       "array([21, 22, 23, 24, 25])"
      ]
     },
     "execution_count": 72,
     "metadata": {},
     "output_type": "execute_result"
    }
   ],
   "source": [
    "result = mat[-1]\n",
    "result"
   ]
  },
  {
   "cell_type": "code",
   "execution_count": 74,
   "id": "515161c4-c12e-4014-833f-4621a37c7b3e",
   "metadata": {},
   "outputs": [
    {
     "data": {
      "text/plain": [
       "array([[16, 17, 18, 19, 20],\n",
       "       [21, 22, 23, 24, 25]])"
      ]
     },
     "execution_count": 74,
     "metadata": {},
     "output_type": "execute_result"
    }
   ],
   "source": [
    "result = mat[3:]\n",
    "result"
   ]
  },
  {
   "cell_type": "markdown",
   "id": "a6bf06af-770b-4e34-b703-aeb0bd159050",
   "metadata": {},
   "source": [
    "##### Get the sum of all the values in mat"
   ]
  },
  {
   "cell_type": "code",
   "execution_count": 77,
   "id": "ef648879-bc6f-434a-8a8b-1a48e392a7c1",
   "metadata": {},
   "outputs": [
    {
     "data": {
      "text/plain": [
       "325"
      ]
     },
     "execution_count": 77,
     "metadata": {},
     "output_type": "execute_result"
    }
   ],
   "source": [
    "sum = np.sum(mat)\n",
    "sum"
   ]
  },
  {
   "cell_type": "markdown",
   "id": "4d1d7f97-a79d-4d06-bd90-a818d3e3d815",
   "metadata": {},
   "source": [
    "##### Get the standard deviation of the values in mat"
   ]
  },
  {
   "cell_type": "code",
   "execution_count": 79,
   "id": "b87c6368-9a79-4605-a4fe-127be600cda8",
   "metadata": {},
   "outputs": [
    {
     "data": {
      "text/plain": [
       "7.211102550927978"
      ]
     },
     "execution_count": 79,
     "metadata": {},
     "output_type": "execute_result"
    }
   ],
   "source": [
    "std = np.std(mat)\n",
    "std"
   ]
  },
  {
   "cell_type": "markdown",
   "id": "474f078d-fa2b-47ae-8839-96ef600ccc46",
   "metadata": {},
   "source": [
    "##### Get the sum of all the columns in mat"
   ]
  },
  {
   "cell_type": "code",
   "execution_count": 80,
   "id": "0825c339-b8ad-4327-8feb-123290f98bba",
   "metadata": {},
   "outputs": [
    {
     "data": {
      "text/plain": [
       "array([[ 1,  2,  3,  4,  5],\n",
       "       [ 6,  7,  8,  9, 10],\n",
       "       [11, 12, 13, 14, 15],\n",
       "       [16, 17, 18, 19, 20],\n",
       "       [21, 22, 23, 24, 25]])"
      ]
     },
     "execution_count": 80,
     "metadata": {},
     "output_type": "execute_result"
    }
   ],
   "source": [
    "mat"
   ]
  },
  {
   "cell_type": "code",
   "execution_count": 83,
   "id": "8aeee6e8-97ab-4468-a73c-8528b29530c2",
   "metadata": {},
   "outputs": [
    {
     "data": {
      "text/plain": [
       "array([55, 60, 65, 70, 75])"
      ]
     },
     "execution_count": 83,
     "metadata": {},
     "output_type": "execute_result"
    }
   ],
   "source": [
    "sum = np.sum(mat, axis = 0)\n",
    "sum"
   ]
  },
  {
   "cell_type": "code",
   "execution_count": null,
   "id": "7dfd9e16-86e7-4021-9f22-46ad63bb0da3",
   "metadata": {},
   "outputs": [],
   "source": []
  }
 ],
 "metadata": {
  "kernelspec": {
   "display_name": "Python [conda env:base] *",
   "language": "python",
   "name": "conda-base-py"
  },
  "language_info": {
   "codemirror_mode": {
    "name": "ipython",
    "version": 3
   },
   "file_extension": ".py",
   "mimetype": "text/x-python",
   "name": "python",
   "nbconvert_exporter": "python",
   "pygments_lexer": "ipython3",
   "version": "3.12.7"
  }
 },
 "nbformat": 4,
 "nbformat_minor": 5
}

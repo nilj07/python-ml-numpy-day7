{
 "cells": [
  {
   "cell_type": "code",
   "execution_count": 1,
   "id": "f8f5f18c-7878-44a0-984e-18382f6ee58e",
   "metadata": {},
   "outputs": [],
   "source": [
    "import numpy as np"
   ]
  },
  {
   "cell_type": "markdown",
   "id": "decb9c94-f65d-413b-9e55-80e88f7173e3",
   "metadata": {},
   "source": [
    "##### 1)how to create 1D Array ?"
   ]
  },
  {
   "cell_type": "code",
   "execution_count": 7,
   "id": "2a8c6c11-d00f-4bd0-875f-bcac9c21a4d4",
   "metadata": {},
   "outputs": [
    {
     "name": "stdout",
     "output_type": "stream",
     "text": [
      "1D array is [1 2 3 4 5 6 7 8 9]\n"
     ]
    },
    {
     "data": {
      "text/plain": [
       "numpy.ndarray"
      ]
     },
     "execution_count": 7,
     "metadata": {},
     "output_type": "execute_result"
    }
   ],
   "source": [
    "data = [1,2,3,4,5,6,7,8,9]\n",
    "arr = np.array(data)\n",
    "print(f'1D array is',arr)\n",
    "type(arr)"
   ]
  },
  {
   "cell_type": "markdown",
   "id": "c6ab3963-949f-4104-8a0a-c13515c32d5a",
   "metadata": {},
   "source": [
    "##### 2)How to create 2D Array ?"
   ]
  },
  {
   "cell_type": "code",
   "execution_count": 16,
   "id": "33c00a49-4901-48dd-989a-b210c1792d01",
   "metadata": {},
   "outputs": [
    {
     "name": "stdout",
     "output_type": "stream",
     "text": [
      "[[1 2 3 4]\n",
      " [5 6 7 8]]\n"
     ]
    }
   ],
   "source": [
    "data = [[1,2,3,4],[5,6,7,8]]\n",
    "arr = np.array(data)\n",
    "print(arr)"
   ]
  },
  {
   "cell_type": "markdown",
   "id": "86fd629c-f62b-4466-b8c6-82126a7bc901",
   "metadata": {},
   "source": [
    "##### how to create 3D Array or ND Array ?"
   ]
  },
  {
   "cell_type": "code",
   "execution_count": 18,
   "id": "7a0c8f08-4734-4764-a198-a1cc80ebbdb5",
   "metadata": {},
   "outputs": [
    {
     "name": "stdout",
     "output_type": "stream",
     "text": [
      "[[1 2 3 4]\n",
      " [5 6 7 8]\n",
      " [1 2 5 4]]\n"
     ]
    }
   ],
   "source": [
    "data = [[1,2,3,4],[5,6,7,8],[1,2,5,4]]\n",
    "arr = np.array(data)\n",
    "print(arr)"
   ]
  },
  {
   "cell_type": "markdown",
   "id": "c75cc540-410b-4ceb-a568-824bf0286857",
   "metadata": {},
   "source": [
    "##### how to identified datatyp for numpy array?"
   ]
  },
  {
   "cell_type": "code",
   "execution_count": 22,
   "id": "fd9789a9-f1ba-405e-830a-e775d6113dfa",
   "metadata": {},
   "outputs": [
    {
     "name": "stdout",
     "output_type": "stream",
     "text": [
      "int32\n"
     ]
    }
   ],
   "source": [
    "arr\n",
    "print(arr.dtype)"
   ]
  },
  {
   "cell_type": "markdown",
   "id": "a12665d7-4b3e-45d9-b4bd-61c8808505db",
   "metadata": {},
   "source": [
    "##### Print 1D array with 5 zeros."
   ]
  },
  {
   "cell_type": "code",
   "execution_count": 24,
   "id": "0bee987c-a930-4e9a-bb75-99bd29c393d3",
   "metadata": {},
   "outputs": [
    {
     "name": "stdout",
     "output_type": "stream",
     "text": [
      "[0. 0. 0. 0. 0.]\n"
     ]
    }
   ],
   "source": [
    "zeros = np.zeros(5)\n",
    "print(zeros)"
   ]
  },
  {
   "cell_type": "markdown",
   "id": "9b9d4221-a451-425a-a0b4-a8faf66ae4b1",
   "metadata": {},
   "source": [
    "##### print zeros with 2 rows and 3 columns ?"
   ]
  },
  {
   "cell_type": "code",
   "execution_count": 26,
   "id": "6b49ad3a-4861-42c5-bf63-628fff2ea21c",
   "metadata": {},
   "outputs": [
    {
     "name": "stdout",
     "output_type": "stream",
     "text": [
      "[[0. 0. 0.]\n",
      " [0. 0. 0.]]\n"
     ]
    }
   ],
   "source": [
    "zeros = np.zeros((2,3))\n",
    "print(zeros)"
   ]
  },
  {
   "cell_type": "markdown",
   "id": "31878d35-4117-405e-ba2c-c67e9e1f8316",
   "metadata": {},
   "source": [
    "##### Create array with eye() - diagonal values ?"
   ]
  },
  {
   "cell_type": "code",
   "execution_count": 43,
   "id": "01a79035-20c1-489e-85d7-7344cb9ac11d",
   "metadata": {},
   "outputs": [
    {
     "name": "stdout",
     "output_type": "stream",
     "text": [
      "[[1. 0. 0. 0. 0.]\n",
      " [0. 1. 0. 0. 0.]\n",
      " [0. 0. 1. 0. 0.]\n",
      " [0. 0. 0. 1. 0.]\n",
      " [0. 0. 0. 0. 1.]]\n"
     ]
    }
   ],
   "source": [
    "arr = np.eye(5)\n",
    "print(arr) "
   ]
  },
  {
   "cell_type": "markdown",
   "id": "c7d0fdb6-a239-4d6c-9b8c-e2e17afbdf99",
   "metadata": {},
   "source": [
    "##### use of diag() square matrix ?"
   ]
  },
  {
   "cell_type": "code",
   "execution_count": 45,
   "id": "52c38ca7-6df1-4c33-a2a8-c33e84f20c13",
   "metadata": {},
   "outputs": [
    {
     "name": "stdout",
     "output_type": "stream",
     "text": [
      "[[1 0 0 0]\n",
      " [0 2 0 0]\n",
      " [0 0 3 0]\n",
      " [0 0 0 4]]\n"
     ]
    }
   ],
   "source": [
    "arr= np.diag([1,2,3,4])\n",
    "print(arr)"
   ]
  },
  {
   "cell_type": "markdown",
   "id": "bdbe8e02-f046-4885-980f-dd81dfe340cf",
   "metadata": {},
   "source": [
    "##### Print Range Between 1 To 15 and show 4 integers random numbers"
   ]
  },
  {
   "cell_type": "code",
   "execution_count": 56,
   "id": "94ea1c09-8f62-4b61-a1e5-b95eb2a0569c",
   "metadata": {},
   "outputs": [
    {
     "name": "stdout",
     "output_type": "stream",
     "text": [
      "[ 5  2 15 13]\n"
     ]
    }
   ],
   "source": [
    "l = np.random.randint(1,16,4) \n",
    "print(l)"
   ]
  },
  {
   "cell_type": "markdown",
   "id": "491b0090-0815-4f36-a2d0-c90a9e16f54d",
   "metadata": {},
   "source": [
    "##### describe the example of seed() function? and how to use it ? why seed()?"
   ]
  },
  {
   "cell_type": "code",
   "execution_count": 114,
   "id": "8cccfe2b-b26d-4388-b6fa-8b517ccea909",
   "metadata": {},
   "outputs": [
    {
     "name": "stdout",
     "output_type": "stream",
     "text": [
      "seed() showing same number only :  [76 28  7  3  4 68 77 49 23 50 53  6 14 90 35 76 75  1 77 14]\n"
     ]
    }
   ],
   "source": [
    "np.random.seed(12)\n",
    "rand_arr4 = np.random.randint(1,100,20)\n",
    "print(\"seed() showing same number only : \", rand_arr4)"
   ]
  },
  {
   "cell_type": "code",
   "execution_count": 115,
   "id": "d9fba6e6-60ed-4f53-b950-5154e125ee85",
   "metadata": {},
   "outputs": [
    {
     "name": "stdout",
     "output_type": "stream",
     "text": [
      "[76 28  7  3  4 68 77 49 23 50 53  6 14 90 35 76 75  1 77 14]\n"
     ]
    }
   ],
   "source": [
    "np.random.seed(12)\n",
    "arr = np.random.randint(1,100,20)\n",
    "print(arr)"
   ]
  },
  {
   "cell_type": "markdown",
   "id": "c777f695-21b4-46df-a236-e75383734b8e",
   "metadata": {},
   "source": [
    "##### Print first position, last position and 2nd and 3rd position"
   ]
  },
  {
   "cell_type": "code",
   "execution_count": 119,
   "id": "f4a6ecf9-8285-4186-b4e1-32eaa37cd5a3",
   "metadata": {},
   "outputs": [
    {
     "name": "stdout",
     "output_type": "stream",
     "text": [
      "first position:- 1 \n",
      " last poisition:- 9 \n",
      " 2nd position:- 2 \n",
      " 3rd position:- 3\n"
     ]
    }
   ],
   "source": [
    "num = np.array([1,2,3,4,5,6,7,8,9])\n",
    "print(f'first position:- {num[0]} \\n last poisition:- {num[-1]} \\n 2nd position:- {num[1]} \\n 3rd position:- {num[2]}')"
   ]
  },
  {
   "cell_type": "markdown",
   "id": "ca656af2-90f3-433b-b282-93979f68c909",
   "metadata": {},
   "source": [
    "##### if we don’t know last number of position how to show it by pragmatically?"
   ]
  },
  {
   "cell_type": "code",
   "execution_count": 121,
   "id": "735de9e1-9fe5-4847-b2a9-e114c05480a6",
   "metadata": {},
   "outputs": [
    {
     "name": "stdout",
     "output_type": "stream",
     "text": [
      "last number is:- 9\n"
     ]
    }
   ],
   "source": [
    "num\n",
    "print(f'last number is:- {num[-1]}')"
   ]
  },
  {
   "cell_type": "markdown",
   "id": "0662e1ef-fb0e-4294-8baa-6be161f062fb",
   "metadata": {},
   "source": [
    "##### create a matrix 3 * 3 with value ranging from 0 to 8"
   ]
  },
  {
   "cell_type": "code",
   "execution_count": 127,
   "id": "59f72948-489e-4e76-bd26-49f946cfff15",
   "metadata": {},
   "outputs": [
    {
     "data": {
      "text/plain": [
       "array([[0, 1, 2],\n",
       "       [3, 4, 5],\n",
       "       [6, 7, 8]])"
      ]
     },
     "execution_count": 127,
     "metadata": {},
     "output_type": "execute_result"
    }
   ],
   "source": [
    "data = np.arange(0,9)\n",
    "data = data.reshape(3,3)\n",
    "data"
   ]
  },
  {
   "cell_type": "markdown",
   "id": "44f2687f-08e9-4a73-8752-4c0912f22def",
   "metadata": {},
   "source": [
    "##### create matrix 2 * 2 with value ranging from 1 to 3"
   ]
  },
  {
   "cell_type": "code",
   "execution_count": 133,
   "id": "97133bb1-e735-4493-85e7-f45c41fd8932",
   "metadata": {},
   "outputs": [
    {
     "data": {
      "text/plain": [
       "array([[0, 1],\n",
       "       [2, 3]])"
      ]
     },
     "execution_count": 133,
     "metadata": {},
     "output_type": "execute_result"
    }
   ],
   "source": [
    "arr = np.arange(0,4)\n",
    "arr = arr.reshape(2,2)\n",
    "arr"
   ]
  },
  {
   "cell_type": "markdown",
   "id": "80079619-fd10-4f95-b738-78fb879c0765",
   "metadata": {},
   "source": [
    "##### create matrix 2 * 2 with value ranging from 1 to 4"
   ]
  },
  {
   "cell_type": "code",
   "execution_count": 135,
   "id": "22960069-bdcd-4918-9196-d9a940651b49",
   "metadata": {},
   "outputs": [
    {
     "data": {
      "text/plain": [
       "array([[1, 2],\n",
       "       [3, 4]])"
      ]
     },
     "execution_count": 135,
     "metadata": {},
     "output_type": "execute_result"
    }
   ],
   "source": [
    "arr1 = np.arange(1,5)\n",
    "arr1 = arr1.reshape(2,2)\n",
    "arr1"
   ]
  },
  {
   "cell_type": "markdown",
   "id": "290954d2-0c6a-407a-a9a4-08e41cddd823",
   "metadata": {},
   "source": [
    "##### print random number from 0 to 1"
   ]
  },
  {
   "cell_type": "code",
   "execution_count": 144,
   "id": "c90e8442-1ce1-42db-a362-df55a8f442f4",
   "metadata": {},
   "outputs": [
    {
     "data": {
      "text/plain": [
       "0.6843250674615364"
      ]
     },
     "execution_count": 144,
     "metadata": {},
     "output_type": "execute_result"
    }
   ],
   "source": [
    "random_num = np.random.rand()\n",
    "random_num"
   ]
  },
  {
   "cell_type": "markdown",
   "id": "202be836-ec78-4357-9702-e46baa4ee6d1",
   "metadata": {},
   "source": [
    "##### print size of num array"
   ]
  },
  {
   "cell_type": "code",
   "execution_count": 149,
   "id": "b8739764-80e3-447d-9155-e0e446d9f15c",
   "metadata": {},
   "outputs": [
    {
     "name": "stdout",
     "output_type": "stream",
     "text": [
      "20\n"
     ]
    }
   ],
   "source": [
    "num = np.array([1,2,3,4,5,6,7,8,9,8,9,4,5,6,5,3,2,1,4,5])\n",
    "print(num.size)"
   ]
  },
  {
   "cell_type": "markdown",
   "id": "18f0d035-834e-4804-8d38-985101b41f62",
   "metadata": {},
   "source": [
    "##### create an array of 20 linearly spaced point between 0 to 1"
   ]
  },
  {
   "cell_type": "code",
   "execution_count": 152,
   "id": "e2682624-6abc-4fdf-8c78-49bb5cf3cec2",
   "metadata": {},
   "outputs": [
    {
     "data": {
      "text/plain": [
       "array([0.        , 0.05263158, 0.10526316, 0.15789474, 0.21052632,\n",
       "       0.26315789, 0.31578947, 0.36842105, 0.42105263, 0.47368421,\n",
       "       0.52631579, 0.57894737, 0.63157895, 0.68421053, 0.73684211,\n",
       "       0.78947368, 0.84210526, 0.89473684, 0.94736842, 1.        ])"
      ]
     },
     "execution_count": 152,
     "metadata": {},
     "output_type": "execute_result"
    }
   ],
   "source": [
    "num = np.linspace(0,1,20)\n",
    "num"
   ]
  },
  {
   "cell_type": "markdown",
   "id": "8162565d-f2a9-4b59-93cc-43d8771fa3d9",
   "metadata": {},
   "source": [
    "##### Use of sort() function ?"
   ]
  },
  {
   "cell_type": "code",
   "execution_count": 156,
   "id": "136d54a8-c39f-471d-9d2f-888a9db738b3",
   "metadata": {},
   "outputs": [
    {
     "name": "stdout",
     "output_type": "stream",
     "text": [
      "[[1 2 3 4 5]\n",
      " [1 2 3 4 5]\n",
      " [4 5 7 8 9]]\n"
     ]
    }
   ],
   "source": [
    "arr= np.array([[1,2,3,4,5],[5,4,1,2,3],[9,7,5,4,8]])\n",
    "print(np.sort(arr))"
   ]
  },
  {
   "cell_type": "markdown",
   "id": "c879bad8-2a4b-47b0-b2de-e7e6bf2111ce",
   "metadata": {},
   "source": [
    "##### How to get the positions where elements of two arrays match?"
   ]
  },
  {
   "cell_type": "code",
   "execution_count": 160,
   "id": "f7e37f62-a86d-4493-9191-4a63d8a5c22c",
   "metadata": {},
   "outputs": [
    {
     "name": "stdout",
     "output_type": "stream",
     "text": [
      "[4 5 6]\n"
     ]
    }
   ],
   "source": [
    "arr = np.array([1,2,3,4,5,6,7,8,9])\n",
    "arr2 = np.array([9,8,7,4,5,6,3,2,5])\n",
    "\n",
    "print(arr[np.where(arr2==arr)])"
   ]
  },
  {
   "cell_type": "markdown",
   "id": "b97a66be-4042-4a5d-885b-474199df87df",
   "metadata": {},
   "source": [
    "##### Create a Numpy array filled with all zeros"
   ]
  },
  {
   "cell_type": "code",
   "execution_count": 165,
   "id": "12b07cff-2938-4b3f-a67b-badf50e10ef3",
   "metadata": {},
   "outputs": [
    {
     "data": {
      "text/plain": [
       "array([[0., 0., 0.],\n",
       "       [0., 0., 0.]])"
      ]
     },
     "execution_count": 165,
     "metadata": {},
     "output_type": "execute_result"
    }
   ],
   "source": [
    "zero = np.zeros(5)\n",
    "zero\n",
    "\n",
    "zero1 = np.zeros((2,3))\n",
    "zero1"
   ]
  },
  {
   "cell_type": "markdown",
   "id": "ac1f233c-6287-499f-9a1f-a1144bf8fd6f",
   "metadata": {},
   "source": [
    "##### Check whether a Numpy array contains a specified row"
   ]
  },
  {
   "cell_type": "code",
   "execution_count": 179,
   "id": "0a04ad8f-2d35-456f-b4b9-50295f6f5a65",
   "metadata": {},
   "outputs": [
    {
     "data": {
      "text/plain": [
       "array([[ 1,  2,  3,  4,  5],\n",
       "       [ 6,  7,  8,  9, 10],\n",
       "       [11, 12, 13, 14, 15],\n",
       "       [16, 17, 18, 19, 20]])"
      ]
     },
     "execution_count": 179,
     "metadata": {},
     "output_type": "execute_result"
    }
   ],
   "source": [
    "arr = np.array([[1, 2, 3, 4, 5],\n",
    "                [6, 7, 8, 9, 10],\n",
    "                [11, 12, 13, 14, 15],\n",
    "                [16, 17, 18, 19, 20]])\n",
    "arr"
   ]
  },
  {
   "cell_type": "code",
   "execution_count": 178,
   "id": "1f5a6a74-1179-417b-b9b5-7ccee138367a",
   "metadata": {},
   "outputs": [
    {
     "name": "stdout",
     "output_type": "stream",
     "text": [
      "True\n",
      "False\n",
      "False\n",
      "True\n"
     ]
    }
   ],
   "source": [
    "print([1, 2, 3, 4, 5] in arr.tolist())\n",
    "print([16, 17, 20, 19, 18] in arr.tolist())\n",
    "print([3, 2, 5, -4, 5] in arr.tolist())\n",
    "print([11, 12, 13, 14, 15] in arr.tolist())"
   ]
  },
  {
   "cell_type": "markdown",
   "id": "8cd366fe-287b-43e3-ad6b-ae7d836c5d59",
   "metadata": {},
   "source": [
    "##### Find the number of occurrences of a sequence in a NumPy array"
   ]
  },
  {
   "cell_type": "code",
   "execution_count": 180,
   "id": "8ba11d31-bb1c-47c0-bb25-6966dd065215",
   "metadata": {},
   "outputs": [
    {
     "data": {
      "text/plain": [
       "array([[2, 8, 9, 4],\n",
       "       [9, 4, 9, 4],\n",
       "       [4, 5, 9, 7],\n",
       "       [2, 9, 4, 3]])"
      ]
     },
     "execution_count": 180,
     "metadata": {},
     "output_type": "execute_result"
    }
   ],
   "source": [
    "arr = np.array([[2, 8, 9, 4], \n",
    "                   [9, 4, 9, 4],\n",
    "                   [4, 5, 9, 7],\n",
    "                   [2, 9, 4, 3]])\n",
    "arr"
   ]
  },
  {
   "cell_type": "code",
   "execution_count": 191,
   "id": "b08e32c2-e49b-494b-870d-00d04a98742e",
   "metadata": {},
   "outputs": [
    {
     "data": {
      "text/plain": [
       "1"
      ]
     },
     "execution_count": 191,
     "metadata": {},
     "output_type": "execute_result"
    }
   ],
   "source": [
    "output = repr(arr).count('8')\n",
    "output"
   ]
  },
  {
   "cell_type": "markdown",
   "id": "f0b280e2-1d37-4aaa-8678-0ec534db8515",
   "metadata": {},
   "source": [
    "##### Write a NumPy program to convert a list of numeric value into a one-dimensional NumPy array."
   ]
  },
  {
   "cell_type": "code",
   "execution_count": 198,
   "id": "dc9be6bb-10ca-4f1b-bdfb-12413b3370ae",
   "metadata": {},
   "outputs": [
    {
     "data": {
      "text/plain": [
       "[1, 2, 3, 4, 5, 6, 7, 8, 9]"
      ]
     },
     "execution_count": 198,
     "metadata": {},
     "output_type": "execute_result"
    }
   ],
   "source": [
    "l1=[1,2,3,4,5,6,7,8,9]\n",
    "arr = np.array(l1)\n",
    "l1"
   ]
  },
  {
   "cell_type": "markdown",
   "id": "98f713c9-de0b-4cb0-b420-b21cb4a39c4d",
   "metadata": {},
   "source": [
    "##### Write a NumPy program to create a null vector of size 10 and update sixth value to 11."
   ]
  },
  {
   "cell_type": "code",
   "execution_count": 202,
   "id": "221c93a5-2af2-419f-8da9-9ffd065b7dc8",
   "metadata": {},
   "outputs": [
    {
     "data": {
      "text/plain": [
       "array([ 0.,  0.,  0.,  0.,  0.,  0., 11.,  0.,  0.,  0.])"
      ]
     },
     "execution_count": 202,
     "metadata": {},
     "output_type": "execute_result"
    }
   ],
   "source": [
    "arr = np.zeros(10)\n",
    "arr[6] = 11\n",
    "arr"
   ]
  },
  {
   "cell_type": "markdown",
   "id": "1796120b-96f8-4518-abb1-052a5a1b68ab",
   "metadata": {},
   "source": [
    "##### Write a NumPy program to create a 5x5 array with random values and find the minimum and maximum values."
   ]
  },
  {
   "cell_type": "code",
   "execution_count": 209,
   "id": "e44ced46-eb7a-4ed3-baee-94f9d036042f",
   "metadata": {},
   "outputs": [
    {
     "data": {
      "text/plain": [
       "array([[0.45130841, 0.40063163, 0.99513816, 0.17756418, 0.9625969 ],\n",
       "       [0.41925027, 0.42405245, 0.46314887, 0.37372315, 0.4655081 ],\n",
       "       [0.03516826, 0.08427267, 0.7325207 , 0.63619999, 0.02790779],\n",
       "       [0.30017006, 0.22085252, 0.05501999, 0.52324607, 0.41636966],\n",
       "       [0.04821875, 0.57240452, 0.80351665, 0.11360172, 0.27711721]])"
      ]
     },
     "execution_count": 209,
     "metadata": {},
     "output_type": "execute_result"
    }
   ],
   "source": [
    "num = np.random.random((5,5))\n",
    "num"
   ]
  },
  {
   "cell_type": "code",
   "execution_count": 213,
   "id": "024adfbd-850e-4b7d-aa99-b813e9adcc5e",
   "metadata": {},
   "outputs": [
    {
     "name": "stdout",
     "output_type": "stream",
     "text": [
      "0.027907788861532556\n",
      "0.9951381603385585\n"
     ]
    }
   ],
   "source": [
    "print(np.min(num))\n",
    "print(np.max(num))"
   ]
  },
  {
   "cell_type": "markdown",
   "id": "29d79a25-f76e-45d6-8621-c1d7f5dde1ba",
   "metadata": {},
   "source": [
    "##### Write a NumPy program to compute the multiplication of two given matrixes. Sample Matrix: [[1, 0], [0, 1]] [[1, 2], [3, 4]]"
   ]
  },
  {
   "cell_type": "code",
   "execution_count": 216,
   "id": "371b8d2e-0092-4e72-a7ee-70aee7bb42ba",
   "metadata": {},
   "outputs": [],
   "source": [
    "a = [[1, 0], [0, 1]]\n",
    "b = [[1, 2], [3, 4]]"
   ]
  },
  {
   "cell_type": "code",
   "execution_count": 217,
   "id": "35a8af10-c280-4780-a07a-9e72104bbd18",
   "metadata": {},
   "outputs": [
    {
     "data": {
      "text/plain": [
       "array([[1, 2],\n",
       "       [3, 4]])"
      ]
     },
     "execution_count": 217,
     "metadata": {},
     "output_type": "execute_result"
    }
   ],
   "source": [
    "multi = np.dot(a,b)\n",
    "multi"
   ]
  },
  {
   "cell_type": "markdown",
   "id": "eae7d94a-0d70-4080-add4-7997f5d0b473",
   "metadata": {},
   "source": [
    "##### Create a two-dimensional array with the flattened input as a diagonal"
   ]
  },
  {
   "cell_type": "code",
   "execution_count": 223,
   "id": "75206ee0-c3a2-498d-b8e4-bcec1ae8d0e6",
   "metadata": {},
   "outputs": [
    {
     "data": {
      "text/plain": [
       "array([[1, 0, 0, 0, 0, 0],\n",
       "       [0, 2, 0, 0, 0, 0],\n",
       "       [0, 0, 3, 0, 0, 0],\n",
       "       [0, 0, 0, 4, 0, 0],\n",
       "       [0, 0, 0, 0, 5, 0],\n",
       "       [0, 0, 0, 0, 0, 6]])"
      ]
     },
     "execution_count": 223,
     "metadata": {},
     "output_type": "execute_result"
    }
   ],
   "source": [
    "ar1 = np.diagflat([[1,2,3],[4,5,6]])\n",
    "ar1"
   ]
  },
  {
   "cell_type": "markdown",
   "id": "77e1483a-b018-484d-a604-4307e959ded3",
   "metadata": {},
   "source": [
    "##### Write a NumPy program to compute the sum of the diagonal element of a given array."
   ]
  },
  {
   "cell_type": "code",
   "execution_count": 240,
   "id": "bcc3f3a4-e4f4-4e45-b997-d402cddfa00a",
   "metadata": {},
   "outputs": [
    {
     "name": "stdout",
     "output_type": "stream",
     "text": [
      "Original matrix:\n",
      "[[ 0  1  2  3  4]\n",
      " [ 5  6  7  8  9]\n",
      " [10 11 12 13 14]\n",
      " [15 16 17 18 19]\n",
      " [20 21 22 23 24]]\n",
      "60\n"
     ]
    }
   ],
   "source": [
    "m = np.arange(25).reshape((5,5))\n",
    "print(\"Original matrix:\")\n",
    "print(m)\n",
    "print(np.trace(m))"
   ]
  },
  {
   "cell_type": "code",
   "execution_count": null,
   "id": "57173ab4-fefe-4faa-81f7-e424d82a2b2d",
   "metadata": {},
   "outputs": [],
   "source": []
  }
 ],
 "metadata": {
  "kernelspec": {
   "display_name": "Python [conda env:base] *",
   "language": "python",
   "name": "conda-base-py"
  },
  "language_info": {
   "codemirror_mode": {
    "name": "ipython",
    "version": 3
   },
   "file_extension": ".py",
   "mimetype": "text/x-python",
   "name": "python",
   "nbconvert_exporter": "python",
   "pygments_lexer": "ipython3",
   "version": "3.12.7"
  }
 },
 "nbformat": 4,
 "nbformat_minor": 5
}
